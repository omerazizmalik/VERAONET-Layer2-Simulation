{
  "cells": [
    {
      "cell_type": "markdown",
      "metadata": {},
      "source": [
        "# \ud83d\udcca VERAONET Energy and Latency Visualization\n",
        "This notebook demonstrates basic visualizations for energy efficiency and latency comparisons across different consensus mechanisms."
      ]
    },
    {
      "cell_type": "code",
      "execution_count": null,
      "metadata": {},
      "outputs": [],
      "source": [
        "import pandas as pd\n",
        "import matplotlib.pyplot as plt\n",
        "\n",
        "# Load datasets\n",
        "latency = pd.read_csv('../experiments/results/latency_results.csv')\n",
        "energy = pd.read_csv('../experiments/results/energy_comparison.csv')\n",
        "\n",
        "# Plot latency\n",
        "plt.figure(figsize=(8,5))\n",
        "for c in latency['Consensus'].unique():\n",
        "    subset = latency[latency['Consensus']==c]\n",
        "    plt.plot(subset['Users'], subset['Latency_ms'], label=c)\n",
        "plt.title('Consensus vs Latency')\n",
        "plt.xlabel('Users')\n",
        "plt.ylabel('Latency (ms)')\n",
        "plt.legend()\n",
        "plt.show()\n",
        "\n",
        "# Plot energy\n",
        "plt.figure(figsize=(8,5))\n",
        "for c in energy['Consensus'].unique():\n",
        "    subset = energy[energy['Consensus']==c]\n",
        "    plt.bar(subset['Consensus'], subset['EnergyNormalized'].mean())\n",
        "plt.title('Average Energy Consumption by Consensus')\n",
        "plt.ylabel('Energy (Normalized)')\n",
        "plt.show()"
      ]
    }
  ],
  "metadata": {
    "kernelspec": {
      "display_name": "Python 3",
      "language": "python",
      "name": "python3"
    },
    "language_info": {
      "name": "python",
      "version": "3.x"
    }
  },
  "nbformat": 4,
  "nbformat_minor": 5
}